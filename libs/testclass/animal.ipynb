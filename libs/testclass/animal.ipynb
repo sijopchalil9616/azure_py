{
 "cells": [
  {
   "cell_type": "code",
   "execution_count": null,
   "metadata": {},
   "outputs": [],
   "source": [
    "class Dog:\n",
    "    attr1=\"Mammel\"\n",
    "    attr2=\"Dog\"\n",
    "\n",
    "    def fun(self):\n",
    "        print(\"I'm a \", self.attr1)\n",
    "        print(\"I'm a \", self.attr2)\n",
    "\n",
    "\n",
    "class Cat:\n",
    "    attr3=\"Not a Mammel\"\n",
    "    attr4=\"Cat\"\n",
    "\n",
    "    def fun(self):\n",
    "        print(\"I'm a \", self.attr3)\n",
    "        print(\"I'm a \", self.attr4)\n",
    "\n"
   ]
  }
 ],
 "metadata": {
  "language_info": {
   "name": "python"
  },
  "orig_nbformat": 4
 },
 "nbformat": 4,
 "nbformat_minor": 2
}
