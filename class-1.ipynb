{
 "cells": [
  {
   "cell_type": "code",
   "execution_count": null,
   "metadata": {},
   "outputs": [],
   "source": [
    "class Dog:\n",
    "\n",
    "    attr1=\"Mammel\"\n",
    "    attr2=\"Dog\"\n",
    "\n",
    "\n",
    "    def fun(self):\n",
    "        print(\"I'm a \", self.attr1)\n",
    "        print(\"I'm a \", self.attr2)\n",
    "\n",
    "        Rodger=Dog()\n",
    "\n",
    "        print(Rodger.attr1)\n",
    "        Rodger.fun()\n",
    "\n",
    "        "
   ]
  }
 ],
 "metadata": {
  "language_info": {
   "name": "python"
  },
  "orig_nbformat": 4
 },
 "nbformat": 4,
 "nbformat_minor": 2
}
